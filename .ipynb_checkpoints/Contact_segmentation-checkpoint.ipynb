{
 "cells": [
  {
   "cell_type": "code",
   "execution_count": 1,
   "id": "8b48dbaa-1330-4729-96dd-be45841f4d87",
   "metadata": {},
   "outputs": [],
   "source": [
    "import mne\n",
    "import nibabel as nb\n",
    "import numpy as np\n",
    "import pandas as pd\n",
    "import matplotlib.pyplot as plt"
   ]
  },
  {
   "cell_type": "markdown",
   "id": "83af1954-14c6-4f7d-8ff9-9c3f62a27120",
   "metadata": {},
   "source": [
    "# Functions"
   ]
  },
  {
   "cell_type": "code",
   "execution_count": 29,
   "id": "0b5f4322-bcec-4fb9-8e0e-9e5b2a20faa5",
   "metadata": {},
   "outputs": [],
   "source": [
    "def imshow_mri(data, img, vox, suptitle, cmap='gray', vmin=None, vmax=None):\n",
    "    \"\"\"Show an MRI slice with a voxel annotated.\"\"\"\n",
    "    i, j, k = vox\n",
    "    fig, ax = plt.subplots()\n",
    "    codes = nb.orientations.aff2axcodes(img.affine)\n",
    "    # Figure out the title based on the code of this axis\n",
    "    ori_slice = dict(P='Coronal', A='Coronal',\n",
    "                     I='Axial', S='Axial',\n",
    "                     L='Sagittal', R='Saggital')\n",
    "    ori_names = dict(P='posterior', A='anterior',\n",
    "                     I='inferior', S='superior',\n",
    "                     L='left', R='right')\n",
    "    title = ori_slice[codes[0]]\n",
    "    scale = np.max(data.shape[2]/data.shape[1])\n",
    "    ax.imshow(data[i], cmap=cmap, origin='lower', aspect=scale*0.8, vmin=vmin, vmax=vmax)\n",
    "    # reorient view so that RAS is always rightward and upward\n",
    "    x_order = -1 if codes[2] in 'LIP' else 1\n",
    "    y_order = -1 if codes[1] in 'LIP' else 1\n",
    "    ax.set(xlim=[0, data.shape[2] - 1][::x_order],\n",
    "           ylim=[0, data.shape[1] - 1][::y_order],\n",
    "           xlabel=f'k ({ori_names[codes[2]]}+)',\n",
    "           ylabel=f'j ({ori_names[codes[1]]}+)',\n",
    "           title=f'{title} view: i={i} ({ori_names[codes[0]]}+)')\n",
    "    fig.suptitle(suptitle)\n",
    "    fig.subplots_adjust(0.1, 0.1, 0.95, 0.85)\n",
    "    return fig\n"
   ]
  },
  {
   "cell_type": "code",
   "execution_count": 32,
   "id": "f6cd205d-a08c-4211-8d9e-ad79da7ec0a6",
   "metadata": {},
   "outputs": [],
   "source": [
    "# https://www.geeksforgeeks.org/bresenhams-algorithm-for-3-d-line-drawing/\n",
    "def create_line_mask(point1, point2, shape):\n",
    "    # Create an empty mask with the specified shape\n",
    "    mask = np.zeros(shape, dtype=bool)\n",
    "    x1, y1, z1 = point1\n",
    "    x2, y2, z2 = point2\n",
    "    # Set the first element to true\n",
    "    mask[x1, y1, z1] = True\n",
    "    # Get the directions of each axis\n",
    "    dx = abs(x2 - x1)\n",
    "    dy = abs(y2 - y1)\n",
    "    dz = abs(z2 - z1)\n",
    "    if x2 > x1:\n",
    "        xs = 1\n",
    "    else:\n",
    "        xs = -1\n",
    "    if y2 > y1:\n",
    "        ys = 1\n",
    "    else:\n",
    "        ys = -1\n",
    "    if z2 > z1:\n",
    "        zs = 1\n",
    "    else:\n",
    "        zs = -1\n",
    "\n",
    "    # Driving axis is X-axis\n",
    "    if dx >= dy and dx >= dz:\n",
    "        p1 = 2 * dy - dx\n",
    "        p2 = 2 * dz - dx\n",
    "        while x1 != x2:\n",
    "            x1 += xs\n",
    "            if p1 >= 0:\n",
    "                y1 += ys\n",
    "                p1 -= 2 * dx\n",
    "            if p2 >= 0:\n",
    "                z1 += zs\n",
    "                p2 -= 2 * dx\n",
    "            p1 += 2 * dy\n",
    "            p2 += 2 * dz\n",
    "            mask[x1, y1, z1] = True\n",
    "        mask[x1, y1, z1] = True\n",
    "\n",
    "    # Driving axis is Y-axis\"\n",
    "    elif dy >= dx and dy >= dz:\n",
    "        p1 = 2 * dx - dy\n",
    "        p2 = 2 * dz - dy\n",
    "        while y1 != y2:\n",
    "            y1 += ys\n",
    "            if p1 >= 0:\n",
    "                x1 += xs\n",
    "                p1 -= 2 * dy\n",
    "            if p2 >= 0:\n",
    "                z1 += zs\n",
    "                p2 -= 2 * dy\n",
    "            p1 += 2 * dx\n",
    "            p2 += 2 * dz\n",
    "            mask[x1, y1, z1] = True\n",
    "        mask[x1, y1, z1] = True\n",
    "\n",
    "    # Driving axis is Z-axis\"\n",
    "    else:\n",
    "        p1 = 2 * dy - dz\n",
    "        p2 = 2 * dx - dz\n",
    "        while z1 != z2:\n",
    "            z1 += zs\n",
    "            if p1 >= 0:\n",
    "                y1 += ys\n",
    "                p1 -= 2 * dz\n",
    "            if p2 >= 0:\n",
    "                x1 += xs\n",
    "                p2 -= 2 * dz\n",
    "            p1 += 2 * dy\n",
    "            p2 += 2 * dx\n",
    "            mask[x1, y1, z1] = True\n",
    "        mask[x1, y1, z1] = True\n",
    "    return mask"
   ]
  },
  {
   "cell_type": "markdown",
   "id": "02ac1bd2-2f28-4d40-9c6b-57fea3c7c46a",
   "metadata": {},
   "source": [
    "# Load positions"
   ]
  },
  {
   "cell_type": "code",
   "execution_count": 7,
   "id": "65cb2439-2a88-4f4b-83d4-7ed8f0fc5d1e",
   "metadata": {},
   "outputs": [
    {
     "data": {
      "text/html": [
       "<div>\n",
       "<style scoped>\n",
       "    .dataframe tbody tr th:only-of-type {\n",
       "        vertical-align: middle;\n",
       "    }\n",
       "\n",
       "    .dataframe tbody tr th {\n",
       "        vertical-align: top;\n",
       "    }\n",
       "\n",
       "    .dataframe thead th {\n",
       "        text-align: right;\n",
       "    }\n",
       "</style>\n",
       "<table border=\"1\" class=\"dataframe\">\n",
       "  <thead>\n",
       "    <tr style=\"text-align: right;\">\n",
       "      <th></th>\n",
       "      <th>id</th>\n",
       "      <th>x</th>\n",
       "      <th>y</th>\n",
       "      <th>z</th>\n",
       "      <th>ow</th>\n",
       "      <th>ox</th>\n",
       "      <th>oy</th>\n",
       "      <th>oz</th>\n",
       "      <th>vis</th>\n",
       "      <th>sel</th>\n",
       "      <th>lock</th>\n",
       "      <th>label</th>\n",
       "      <th>desc</th>\n",
       "      <th>associatedNodeID</th>\n",
       "    </tr>\n",
       "  </thead>\n",
       "  <tbody>\n",
       "    <tr>\n",
       "      <th>0</th>\n",
       "      <td>1</td>\n",
       "      <td>31.4</td>\n",
       "      <td>74.8</td>\n",
       "      <td>8.8</td>\n",
       "      <td>0</td>\n",
       "      <td>0</td>\n",
       "      <td>0</td>\n",
       "      <td>1</td>\n",
       "      <td>1</td>\n",
       "      <td>1</td>\n",
       "      <td>1</td>\n",
       "      <td>RAIn</td>\n",
       "      <td>NaN</td>\n",
       "      <td>NaN</td>\n",
       "    </tr>\n",
       "    <tr>\n",
       "      <th>1</th>\n",
       "      <td>2</td>\n",
       "      <td>17.4</td>\n",
       "      <td>91.8</td>\n",
       "      <td>71.5</td>\n",
       "      <td>0</td>\n",
       "      <td>0</td>\n",
       "      <td>0</td>\n",
       "      <td>1</td>\n",
       "      <td>1</td>\n",
       "      <td>1</td>\n",
       "      <td>1</td>\n",
       "      <td>RAIn</td>\n",
       "      <td>NaN</td>\n",
       "      <td>NaN</td>\n",
       "    </tr>\n",
       "    <tr>\n",
       "      <th>2</th>\n",
       "      <td>3</td>\n",
       "      <td>17.8</td>\n",
       "      <td>76.5</td>\n",
       "      <td>-10.7</td>\n",
       "      <td>0</td>\n",
       "      <td>0</td>\n",
       "      <td>0</td>\n",
       "      <td>1</td>\n",
       "      <td>1</td>\n",
       "      <td>1</td>\n",
       "      <td>1</td>\n",
       "      <td>RTePo</td>\n",
       "      <td>NaN</td>\n",
       "      <td>NaN</td>\n",
       "    </tr>\n",
       "    <tr>\n",
       "      <th>3</th>\n",
       "      <td>4</td>\n",
       "      <td>51.2</td>\n",
       "      <td>71.2</td>\n",
       "      <td>0.4</td>\n",
       "      <td>0</td>\n",
       "      <td>0</td>\n",
       "      <td>0</td>\n",
       "      <td>1</td>\n",
       "      <td>1</td>\n",
       "      <td>1</td>\n",
       "      <td>1</td>\n",
       "      <td>RTePo</td>\n",
       "      <td>NaN</td>\n",
       "      <td>NaN</td>\n",
       "    </tr>\n",
       "    <tr>\n",
       "      <th>4</th>\n",
       "      <td>5</td>\n",
       "      <td>9.4</td>\n",
       "      <td>60.1</td>\n",
       "      <td>2.1</td>\n",
       "      <td>0</td>\n",
       "      <td>0</td>\n",
       "      <td>0</td>\n",
       "      <td>1</td>\n",
       "      <td>1</td>\n",
       "      <td>1</td>\n",
       "      <td>1</td>\n",
       "      <td>RAm</td>\n",
       "      <td>NaN</td>\n",
       "      <td>NaN</td>\n",
       "    </tr>\n",
       "  </tbody>\n",
       "</table>\n",
       "</div>"
      ],
      "text/plain": [
       "   id     x     y     z  ow  ox  oy  oz  vis  sel  lock  label  desc  \\\n",
       "0   1  31.4  74.8   8.8   0   0   0   1    1    1     1   RAIn   NaN   \n",
       "1   2  17.4  91.8  71.5   0   0   0   1    1    1     1   RAIn   NaN   \n",
       "2   3  17.8  76.5 -10.7   0   0   0   1    1    1     1  RTePo   NaN   \n",
       "3   4  51.2  71.2   0.4   0   0   0   1    1    1     1  RTePo   NaN   \n",
       "4   5   9.4  60.1   2.1   0   0   0   1    1    1     1    RAm   NaN   \n",
       "\n",
       "   associatedNodeID  \n",
       "0               NaN  \n",
       "1               NaN  \n",
       "2               NaN  \n",
       "3               NaN  \n",
       "4               NaN  "
      ]
     },
     "execution_count": 7,
     "metadata": {},
     "output_type": "execute_result"
    }
   ],
   "source": [
    "positions = pd.read_csv('sub-P001_planned.fcsv', sep=',', skiprows=3, names=['id','x','y','z','ow','ox','oy','oz','vis','sel','lock','label','desc','associatedNodeID'])\n",
    "positions.head()"
   ]
  },
  {
   "cell_type": "code",
   "execution_count": 43,
   "id": "340aa575-3aae-47fc-b6ec-50ec5d8fe492",
   "metadata": {},
   "outputs": [
    {
     "data": {
      "text/plain": [
       "array([[ 9.4, 60.1,  2.1],\n",
       "       [58.2, 60.1,  6.1]])"
      ]
     },
     "execution_count": 43,
     "metadata": {},
     "output_type": "execute_result"
    }
   ],
   "source": [
    "# Entry and target for RAIn\n",
    "ras_array = positions.loc[[4,5],['x', 'y', 'z']].values\n",
    "ras_array"
   ]
  },
  {
   "cell_type": "markdown",
   "id": "ca716d2d-cf12-40b0-af22-e84a3e4a8e46",
   "metadata": {},
   "source": [
    "# Load image"
   ]
  },
  {
   "cell_type": "code",
   "execution_count": 11,
   "id": "e2e9d7c1-49a5-472a-9e4e-ce8ca64d1616",
   "metadata": {},
   "outputs": [],
   "source": [
    "image = nb.load('sub-P001_desc-rigid_space-T1w_ct_thresh.nii.gz')"
   ]
  },
  {
   "cell_type": "code",
   "execution_count": 13,
   "id": "3bc130b0-95bd-4037-81a0-0d336df1aabe",
   "metadata": {},
   "outputs": [
    {
     "data": {
      "text/plain": [
       "(512, 512, 256)"
      ]
     },
     "execution_count": 13,
     "metadata": {},
     "output_type": "execute_result"
    }
   ],
   "source": [
    "# Get data\n",
    "data = np.asarray(image.dataobj)\n",
    "data.shape"
   ]
  },
  {
   "cell_type": "markdown",
   "id": "40333f97-12cf-48da-8c40-760d93cf19f4",
   "metadata": {},
   "source": [
    "# Convert pos to vox"
   ]
  },
  {
   "cell_type": "code",
   "execution_count": 44,
   "id": "def68fc2-2388-44ba-935d-b6b2ce728756",
   "metadata": {},
   "outputs": [
    {
     "data": {
      "text/plain": [
       "array([[222, 290,  85],\n",
       "       [128, 296, 112]])"
      ]
     },
     "execution_count": 44,
     "metadata": {},
     "output_type": "execute_result"
    }
   ],
   "source": [
    "inv_affine = np.linalg.inv(image.affine)\n",
    "vox = np.round(mne.transforms.apply_trans(inv_affine, ras_array)).astype(int)\n",
    "vox"
   ]
  },
  {
   "cell_type": "code",
   "execution_count": 45,
   "id": "3abad466-f74b-48c8-b9ae-663c2735bab2",
   "metadata": {},
   "outputs": [
    {
     "data": {
      "text/plain": [
       "array([222, 290,  85])"
      ]
     },
     "execution_count": 45,
     "metadata": {},
     "output_type": "execute_result"
    }
   ],
   "source": [
    "vox[0,:]"
   ]
  },
  {
   "cell_type": "code",
   "execution_count": 46,
   "id": "d6037edd-d4f5-4fa9-bdc5-5a8f70c9056a",
   "metadata": {},
   "outputs": [
    {
     "data": {
      "text/plain": [
       "<matplotlib.image.AxesImage at 0x2b05d0d823d0>"
      ]
     },
     "execution_count": 46,
     "metadata": {},
     "output_type": "execute_result"
    },
    {
     "data": {
      "image/png": "[encoded data removed]",
      "text/plain": [
       "<Figure size 640x480 with 1 Axes>"
      ]
     },
     "metadata": {},
     "output_type": "display_data"
    }
   ],
   "source": [
    "plt.imshow((data[150:200,vox[0,1],50:150]).transpose(), cmap='gray') # Adjusted the view to look like slicer\n",
    "# fig.axes[0].scatter(vox_plot[1],vox_plot[2])"
   ]
  },
  {
   "cell_type": "markdown",
   "id": "bd2f6624-7c9f-4245-ba80-63977bc471cb",
   "metadata": {},
   "source": [
    "# Create mask"
   ]
  },
  {
   "cell_type": "code",
   "execution_count": 47,
   "id": "1a363acd-595f-42ef-b059-2af4253d2d6d",
   "metadata": {},
   "outputs": [],
   "source": [
    "point_A = vox[0,:]\n",
    "point_B = vox[1,:]"
   ]
  },
  {
   "cell_type": "code",
   "execution_count": 48,
   "id": "c18dda2a-30ca-47e3-8c13-1d5b5fdeeaec",
   "metadata": {},
   "outputs": [],
   "source": [
    "test_mask = create_line_mask(point_A, point_B, data.shape)"
   ]
  },
  {
   "cell_type": "code",
   "execution_count": 49,
   "id": "cbb698ab-4692-4335-930b-5d9b8e02da8a",
   "metadata": {},
   "outputs": [],
   "source": [
    "from skimage.morphology import dilation\n",
    "from skimage.morphology import ball\n",
    "\n",
    "footprint = ball(2)\n",
    "dilated = dilation(test_mask, footprint)"
   ]
  },
  {
   "cell_type": "code",
   "execution_count": 50,
   "id": "d31c0da5-e3ae-4a5a-a9a5-a8dcb837be3c",
   "metadata": {},
   "outputs": [],
   "source": [
    "from scipy.ndimage import gaussian_filter\n",
    "result = gaussian_filter(dilated.astype(float), sigma=0.6)"
   ]
  },
  {
   "cell_type": "code",
   "execution_count": 51,
   "id": "42d923ed-20a4-4117-bd86-88f05f9a1a92",
   "metadata": {},
   "outputs": [
    {
     "data": {
      "text/plain": [
       "<matplotlib.image.AxesImage at 0x2b05dff26a90>"
      ]
     },
     "execution_count": 51,
     "metadata": {},
     "output_type": "execute_result"
    },
    {
     "data": {
      "image/png": "[encoded data removed]",
      "text/plain": [
       "<Figure size 640x480 with 1 Axes>"
      ]
     },
     "metadata": {},
     "output_type": "display_data"
    }
   ],
   "source": [
    "plt.imshow((result[150:200,point_A[1],50:150]>0).transpose(), cmap='gray') # Adjusted the view to look like slicer"
   ]
  },
  {
   "cell_type": "code",
   "execution_count": 52,
   "id": "67c7a59c-ab4a-49cb-9bfd-f190e64584dc",
   "metadata": {},
   "outputs": [],
   "source": [
    "clipped_img = nb.Nifti1Image(result>0, image.affine, image.header)\n",
    "nb.save(clipped_img, 'test_blur_mask.nii.gz')"
   ]
  },
  {
   "cell_type": "markdown",
   "id": "d72c5e01-dca1-4d82-b5c0-0847377cda6e",
   "metadata": {},
   "source": [
    "# Use this as a mask"
   ]
  },
  {
   "cell_type": "code",
   "execution_count": 53,
   "id": "cb34213b-756f-4242-b706-f0f9ee612d39",
   "metadata": {},
   "outputs": [
    {
     "data": {
      "text/plain": [
       "<matplotlib.image.AxesImage at 0x2b05d7e86be0>"
      ]
     },
     "execution_count": 53,
     "metadata": {},
     "output_type": "execute_result"
    },
    {
     "data": {
      "image/png": "[encoded data removed]",
      "text/plain": [
       "<Figure size 640x480 with 1 Axes>"
      ]
     },
     "metadata": {},
     "output_type": "display_data"
    }
   ],
   "source": [
    "data_masked = data.copy()\n",
    "data_masked[result<=0] = 0\n",
    "plt.imshow((data_masked[150:200,vox[0,1],50:150]).transpose(), cmap='gray') # Adjusted the view to look like slicer"
   ]
  },
  {
   "cell_type": "code",
   "execution_count": 54,
   "id": "579f096c-e309-45d2-9cf2-705f3ef0d2ff",
   "metadata": {},
   "outputs": [],
   "source": [
    "masked_img = nb.Nifti1Image(data_masked>0, image.affine, image.header)\n",
    "nb.save(masked_img, 'test_electrode_contacts.nii.gz')"
   ]
  }
 ],
 "metadata": {
  "kernelspec": {
   "display_name": "Python 3 (ipykernel)",
   "language": "python",
   "name": "python3"
  },
  "language_info": {
   "codemirror_mode": {
    "name": "ipython",
    "version": 3
   },
   "file_extension": ".py",
   "mimetype": "text/x-python",
   "name": "python",
   "nbconvert_exporter": "python",
   "pygments_lexer": "ipython3",
   "version": "3.8.10"
  }
 },
 "nbformat": 4,
 "nbformat_minor": 5
}
