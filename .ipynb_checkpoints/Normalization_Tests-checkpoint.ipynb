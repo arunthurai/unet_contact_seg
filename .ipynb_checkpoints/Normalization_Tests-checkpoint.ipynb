{
 "cells": [
  {
   "cell_type": "code",
   "execution_count": 1,
   "id": "1831ddcf-7e7b-4925-aad7-e576269519ea",
   "metadata": {
    "tags": []
   },
   "outputs": [
    {
     "name": "stderr",
     "output_type": "stream",
     "text": [
      "2024-01-29 12:09:22.721119: I tensorflow/core/platform/cpu_feature_guard.cc:193] This TensorFlow binary is optimized with oneAPI Deep Neural Network Library (oneDNN) to use the following CPU instructions in performance-critical operations:  AVX2 FMA\n",
      "To enable them in other operations, rebuild TensorFlow with the appropriate compiler flags.\n",
      "2024-01-29 12:09:23.886447: W tensorflow/compiler/xla/stream_executor/platform/default/dso_loader.cc:64] Could not load dynamic library 'libnvinfer.so.7'; dlerror: libnvinfer.so.7: cannot open shared object file: No such file or directory\n",
      "2024-01-29 12:09:23.887279: W tensorflow/compiler/xla/stream_executor/platform/default/dso_loader.cc:64] Could not load dynamic library 'libnvinfer_plugin.so.7'; dlerror: libnvinfer_plugin.so.7: cannot open shared object file: No such file or directory\n",
      "2024-01-29 12:09:23.887330: W tensorflow/compiler/tf2tensorrt/utils/py_utils.cc:38] TF-TRT Warning: Cannot dlopen some TensorRT libraries. If you would like to use Nvidia GPU with TensorRT, please make sure the missing libraries mentioned above are installed properly.\n"
     ]
    }
   ],
   "source": [
    "import os\n",
    "import nibabel as nib\n",
    "import sys\n",
    "import tensorflow as tf\n",
    "import pandas as pd \n",
    "import numpy as np\n",
    "import subprocess\n",
    "from glob import glob\n",
    "from tensorflow import keras\n",
    "from nilearn import image\n",
    "from sklearn.model_selection import train_test_split"
   ]
  },
  {
   "cell_type": "code",
   "execution_count": 2,
   "id": "59c6c1ac-b7be-4d75-b77e-551551e031fc",
   "metadata": {},
   "outputs": [],
   "source": [
    "def read_nii_metadata(nii_path):\n",
    "    \"\"\"Load in nifti data and header information\"\"\"\n",
    "    nii = nib.load(nii_path)\n",
    "    nii_affine = nii.affine\n",
    "    nii_data = nii.get_fdata()\n",
    "    nii_header = nii.header\n",
    "    return nii_affine, nii_data, nii_header\n",
    "\n",
    "def normalization_shifted(nii_path):\n",
    "    aff, nii_img, head = read_nii_metadata(nii_path)\n",
    "    shifted = nii_img - nii_img.min()\n",
    "    scaled = (shifted - shifted.min())/(shifted.max()-shifted.min())\n",
    "    img_nii = nib.Nifti1Image(scaled, aff, head)\n",
    "    return img_nii\n",
    "\n",
    "#https://www.ncbi.nlm.nih.gov/pmc/articles/PMC6758567/ - Z score normalization\n",
    "#previous unet paper normalizes with 0 mean and 1 standard deviation\n",
    "def z_normalization(nii_path):\n",
    "    aff, nii_img, head = read_nii_metadata(nii_path)\n",
    "    img_stdev = np.std(nii_img)\n",
    "    print(img_stdev)\n",
    "    img_mean = np.mean(nii_img)\n",
    "    z_norm = (nii_img - img_mean)/img_stdev\n",
    "    new_img = nib.Nifti1Image(z_norm, aff, head)\n",
    "    return new_img\n",
    "    \n",
    "def min_max_normalization(nii_path):\n",
    "    aff, nii_img, head = read_nii_metadata(nii_path)\n",
    "    scaled_image = (nii_img - np.min(nii_img)) / (np.max(nii_img) - np.min(nii_img))\n",
    "    img_nii = nib.Nifti1Image(scaled_image, aff, head)\n",
    "    return img_nii"
   ]
  },
  {
   "cell_type": "code",
   "execution_count": 5,
   "id": "0543c7ca-182f-48b1-ba21-09eafd179718",
   "metadata": {
    "tags": []
   },
   "outputs": [
    {
     "name": "stdout",
     "output_type": "stream",
     "text": [
      "/home/athurai3\n"
     ]
    }
   ],
   "source": [
    "cd"
   ]
  },
  {
   "cell_type": "code",
   "execution_count": 6,
   "id": "45645500-95cd-42d1-86b8-5c5c8dffa7ad",
   "metadata": {
    "tags": []
   },
   "outputs": [
    {
     "name": "stdout",
     "output_type": "stream",
     "text": [
      "1164.762289130268\n",
      "1017.7536923556506\n"
     ]
    }
   ],
   "source": [
    "test_subject_path = 'scratch/test_noninterp_image/sub-P001/sub-P001_desc-rigid_space-T1w_ct.nii.gz'\n",
    "norm_shift_path = 'scratch/test_noninterp_image/sub-P001/sub-P001_desc-rigid_shiftnorm_space-T1w_ct.nii.gz'\n",
    "z_norm_path = 'scratch/test_noninterp_image/sub-P001/sub-P001_desc-rigid_space-T1w_znorm_ct.nii.gz'\n",
    "min_max_path = 'scratch/test_noninterp_image/sub-P001/sub-P001_desc-rigid_minmax_space-T1w_ct.nii.gz'\n",
    "sub2_path = 'scratch/test_noninterp_image/sub-P002/sub-P002_desc-rigid_space-T1w_ct.nii.gz'\n",
    "z_norm2_path = 'scratch/test_noninterp_image/sub-P002/sub-P002_desc-rigid_space-T1w_znorm_ct.nii.gz'\n",
    "\n",
    "previous_norm = normalization_shifted(test_subject_path)\n",
    "z_norm = z_normalization(test_subject_path)\n",
    "min_max = min_max_normalization(test_subject_path)\n",
    "z_norm2 = z_normalization(sub2_path)\n",
    "\n",
    "#nib.save(previous_norm, norm_shift_path)\n",
    "nib.save(z_norm, z_norm_path)\n",
    "nib.save(z_norm2,z_norm2_path)\n",
    "#nib.save(min_max, min_max_path)"
   ]
  },
  {
   "cell_type": "code",
   "execution_count": 12,
   "id": "0f6ff535-0393-4d12-8e48-0742088e2d79",
   "metadata": {},
   "outputs": [
    {
     "name": "stdout",
     "output_type": "stream",
     "text": [
      "-1004.0 -38.0\n"
     ]
    }
   ],
   "source": [
    "orig_aff, orig_data, orig_header = read_nii_metadata(test_subject_path)\n",
    "\n",
    "def robust_scaling(nii_path):\n",
    "    aff, img_data, img_header = read_nii_metadata(nii_path)\n",
    "    flat_data = img_data.flatten()\n",
    "    q1 = np.percentile(flat_data, 25)\n",
    "    q3 = np.percentile(flat_data, 75) \n",
    "    scaled_img = (img_data-q1)/q3-q1\n",
    "    print(q1, q3)\n",
    "    img_nii = nib.Nifti1Image(scaled_img, aff, img_header)\n",
    "    return img_nii\n",
    "\n",
    "robust_img = robust_scaling(test_subject_path)\n",
    "#nib.save(robust_img, 'scratch/test_noninterp_image/sub-P001/sub-P001_desc-rigid_robust_scaled_space-T1w_ct.nii.gz')"
   ]
  },
  {
   "cell_type": "code",
   "execution_count": null,
   "id": "8ec0895e-ddc8-4385-829e-c67d52e86854",
   "metadata": {},
   "outputs": [],
   "source": []
  }
 ],
 "metadata": {
  "kernelspec": {
   "display_name": "Python 3 (ipykernel)",
   "language": "python",
   "name": "python3"
  },
  "language_info": {
   "codemirror_mode": {
    "name": "ipython",
    "version": 3
   },
   "file_extension": ".py",
   "mimetype": "text/x-python",
   "name": "python",
   "nbconvert_exporter": "python",
   "pygments_lexer": "ipython3",
   "version": "3.10.2"
  }
 },
 "nbformat": 4,
 "nbformat_minor": 5
}
