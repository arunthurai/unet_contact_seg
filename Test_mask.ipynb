{
 "cells": [
  {
   "cell_type": "code",
   "execution_count": 1,
   "id": "cfff7b3c-d474-4562-8c45-ca88efed2c1f",
   "metadata": {},
   "outputs": [],
   "source": [
    "import os\n",
    "import nibabel as nib\n",
    "import sys\n",
    "import pandas as pd \n",
    "import numpy as np\n",
    "import subprocess\n",
    "from glob import glob\n",
    "from skimage.morphology import dilation\n",
    "from skimage.morphology import ball\n",
    "from scipy.ndimage import gaussian_filter\n",
    "import re\n",
    "import csv"
   ]
  },
  {
   "cell_type": "markdown",
   "id": "8d7d92cb-48ab-49d4-97e3-d740fb9b0eb8",
   "metadata": {
    "tags": []
   },
   "source": [
    "## Functions"
   ]
  },
  {
   "cell_type": "code",
   "execution_count": 2,
   "id": "0e1cb719-67a7-40fd-b713-acba0d6618d3",
   "metadata": {},
   "outputs": [],
   "source": [
    "def read_nifti(img_path):\n",
    "    test_img = nib.load(img_path)\n",
    "    test_data = np.asarray(test_img.dataobj)\n",
    "    test_aff = test_img.affine\n",
    "    test_shape = test_img.shape\n",
    "\n",
    "    return test_img, test_data, test_aff, test_shape"
   ]
  },
  {
   "cell_type": "code",
   "execution_count": 3,
   "id": "c77437c2-5718-485d-bfab-a9dbff0e33a4",
   "metadata": {},
   "outputs": [],
   "source": [
    "def determineFCSVCoordSystem(input_fcsv,overwrite_fcsv=False):\n",
    "    # need to determine if file is in RAS or LPS\n",
    "    # loop through header to find coordinate system\n",
    "    coordFlag = re.compile('# CoordinateSystem')\n",
    "    verFlag = re.compile('# Markups fiducial file version')\n",
    "    headFlag = re.compile('# columns')\n",
    "    coord_sys=None\n",
    "    headFin=None\n",
    "    ver_fin=None\n",
    "\n",
    "    with open(input_fcsv, 'r') as myfile:\n",
    "        firstNlines=myfile.readlines()[0:3]\n",
    "    for row in firstNlines:\n",
    "        row=re.sub(\"[\\s\\,]+[\\,]\",\"\",row).replace(\"\\n\",\"\")\n",
    "        cleaned_dict={row.split('=')[0].strip():row.split('=')[1].strip()}\n",
    "        if None in list(cleaned_dict):\n",
    "            cleaned_dict['# columns'] = cleaned_dict.pop(None)\n",
    "        if any(coordFlag.match(x) for x in list(cleaned_dict)):\n",
    "            coord_sys = list(cleaned_dict.values())[0]\n",
    "        if any(verFlag.match(x) for x in list(cleaned_dict)):\n",
    "            verString = list(filter(verFlag.match,  list(cleaned_dict)))\n",
    "            assert len(verString)==1\n",
    "            ver_fin = verString[0].split('=')[-1].strip()\n",
    "        if any(headFlag.match(x) for x in list(cleaned_dict)):\n",
    "            headFin=list(cleaned_dict.values())[0].split(',')\n",
    "    return coord_sys\n",
    "def extract_coords(file_path):\n",
    "    coord_sys=determineFCSVCoordSystem(file_path)\n",
    "    df = pd.read_csv(file_path, skiprows = 3, header = None)\n",
    "    coord_arr = df[[1,2,3,11]].to_numpy()\n",
    "    if any(x in coord_sys for x in {'LPS','1'}):\n",
    "        coord_arr = coord_arr[0:3] * np.array([-1,-1,1])\n",
    "    return coord_arr"
   ]
  },
  {
   "cell_type": "code",
   "execution_count": 4,
   "id": "59565a1a-a00b-4de8-9894-dba2b47441fc",
   "metadata": {},
   "outputs": [],
   "source": [
    "def transform_points_ct_space(coord_path, ct_t1_path):\n",
    "    t1_coords = extract_coords(coord_path)\n",
    "    ct_coords = np.zeros(t1_coords.shape)\n",
    "    transform = np.loadtxt(ct_t1_path)\n",
    "    transform = np.linalg.inv(transform)\n",
    "\n",
    "    M = transform[:3,:3]\n",
    "    abc = transform[:3,3]\n",
    "\n",
    "\n",
    "    for i in range(len(ct_coords)):\n",
    "        vec = t1_coords[i,:]\n",
    "        tvec = M.dot(vec) + abc\n",
    "        ct_coords[i,:] = tvec[:3]\n",
    "\n",
    "    # ct_coords = np.round(ct_coords).astype(int) #DELETE\n",
    "\n",
    "    return ct_coords"
   ]
  },
  {
   "cell_type": "code",
   "execution_count": 5,
   "id": "ea86a23a-8ac0-4f12-b09d-66435d1b7b42",
   "metadata": {},
   "outputs": [],
   "source": [
    "def transform_coords_vox_space(planned_coords, img_aff):\n",
    "    inv_affine = np.linalg.inv(img_aff)\n",
    "    M = inv_affine[:3,:3]\n",
    "    abc = inv_affine[:3,3]\n",
    "\n",
    "    transform_coords = np.zeros(planned_coords.shape)\n",
    "\n",
    "    for i in range(len(transform_coords)):\n",
    "        vec = planned_coords[i,:]\n",
    "        tvec = M.dot(vec) + abc\n",
    "        transform_coords[i,:] = tvec[:3]\n",
    "    \n",
    "    transform_coords = np.round(transform_coords).astype(int)\n",
    "\n",
    "    return transform_coords\n",
    "\n",
    "def check_coord_dims(pointa, pointb, img_size):\n",
    "    for i in range(3):\n",
    "        if pointa[i] > img_size[i] or pointb[i] > img_size[i]:\n",
    "            print('review planned_fcsv - dim mismatch')\n",
    "            return False\n",
    "    return True"
   ]
  },
  {
   "cell_type": "code",
   "execution_count": 13,
   "id": "939d643d-ec40-46fb-b2b5-2ad6d6a2a2d7",
   "metadata": {},
   "outputs": [],
   "source": [
    "def create_line_mask(point1, point2, shape):\n",
    "    # Create an empty mask with the specified shape\n",
    "    mask = np.zeros(shape, dtype=bool)\n",
    "    x1, y1, z1 = point1\n",
    "    x2, y2, z2 = point2\n",
    "    \n",
    "    mask[x1, y1, z1] = True\n",
    "    # Get the directions of each axis\n",
    "    dx = abs(x2 - x1)\n",
    "    dy = abs(y2 - y1)\n",
    "    dz = abs(z2 - z1)\n",
    "    if x2 > x1:\n",
    "        xs = 1\n",
    "    else:\n",
    "        xs = -1\n",
    "    if y2 > y1:\n",
    "        ys = 1\n",
    "    else:\n",
    "        ys = -1\n",
    "    if z2 > z1:\n",
    "        zs = 1\n",
    "    else:\n",
    "        zs = -1\n",
    "\n",
    "    # Driving axis is X-axis\n",
    "    if dx >= dy and dx >= dz:\n",
    "        p1 = 2 * dy - dx\n",
    "        p2 = 2 * dz - dx\n",
    "        while x1 != x2:\n",
    "            x1 += xs\n",
    "            if p1 >= 0:\n",
    "                y1 += ys\n",
    "                p1 -= 2 * dx\n",
    "            if p2 >= 0:\n",
    "                z1 += zs\n",
    "                p2 -= 2 * dx\n",
    "            p1 += 2 * dy\n",
    "            p2 += 2 * dz\n",
    "            mask[x1, y1, z1] = True\n",
    "        mask[x1, y1, z1] = True\n",
    "\n",
    "    # Driving axis is Y-axis\"\n",
    "    elif dy >= dx and dy >= dz:\n",
    "        p1 = 2 * dx - dy\n",
    "        p2 = 2 * dz - dy\n",
    "        while y1 != y2:\n",
    "            y1 += ys\n",
    "            if p1 >= 0:\n",
    "                x1 += xs\n",
    "                p1 -= 2 * dy\n",
    "            if p2 >= 0:\n",
    "                z1 += zs\n",
    "                p2 -= 2 * dy\n",
    "            p1 += 2 * dx\n",
    "            p2 += 2 * dz\n",
    "            mask[x1, y1, z1] = True\n",
    "        mask[x1, y1, z1] = True\n",
    "\n",
    "    # Driving axis is Z-axis\"\n",
    "    else:\n",
    "        p1 = 2 * dy - dz\n",
    "        p2 = 2 * dx - dz\n",
    "        while z1 != z2:\n",
    "            z1 += zs\n",
    "            if p1 >= 0:\n",
    "                y1 += ys\n",
    "                p1 -= 2 * dz\n",
    "            if p2 >= 0:\n",
    "                x1 += xs\n",
    "                p2 -= 2 * dz\n",
    "            p1 += 2 * dy\n",
    "            p2 += 2 * dx\n",
    "            mask[x1, y1, z1] = True\n",
    "        mask[x1, y1, z1] = True\n",
    "    return mask"
   ]
  },
  {
   "cell_type": "markdown",
   "id": "df62af53-f0fc-4e3d-93af-cd10936b889f",
   "metadata": {
    "jp-MarkdownHeadingCollapsed": true,
    "tags": []
   },
   "source": [
    "## Test code"
   ]
  },
  {
   "cell_type": "code",
   "execution_count": 57,
   "id": "d5cd58e4-9596-4cd5-b7f5-141dc7b06472",
   "metadata": {},
   "outputs": [],
   "source": [
    "img_path = './data/sub-P020_res-0p4mm_ct.nii.gz'\n",
    "coord_path = './data/sub-P020_actual.fcsv'\n",
    "ct_t1_trans = './data/sub-P020_desc-rigid_from-ct_to-T1w_type-ras_ses-post_xfm.txt'\n",
    "final_path = 'test.nii.gz'"
   ]
  },
  {
   "cell_type": "code",
   "execution_count": 5,
   "id": "83c77b19-6384-425e-8ea1-fb0acda5cf44",
   "metadata": {},
   "outputs": [],
   "source": [
    "# First, read nifti file\n",
    "img, img_data, img_aff, img_shape = read_nifti(img_path)"
   ]
  },
  {
   "cell_type": "code",
   "execution_count": 65,
   "id": "de4c6e63-ee70-4372-8d72-41b8990514a0",
   "metadata": {},
   "outputs": [
    {
     "data": {
      "text/plain": [
       "array([[  -0.39936084,    0.        ,    0.        ,  125.04445648],\n",
       "       [   0.        ,    0.39936084,    0.        , -137.95605469],\n",
       "       [   0.        ,    0.        ,    0.39911309,  -10.36294365],\n",
       "       [   0.        ,    0.        ,    0.        ,    1.        ]])"
      ]
     },
     "execution_count": 65,
     "metadata": {},
     "output_type": "execute_result"
    }
   ],
   "source": [
    "img_aff"
   ]
  },
  {
   "cell_type": "code",
   "execution_count": 66,
   "id": "1d709d01-12fe-4538-9d4c-abd41ec7c02c",
   "metadata": {},
   "outputs": [
    {
     "data": {
      "text/plain": [
       "(626, 626, 451)"
      ]
     },
     "execution_count": 66,
     "metadata": {},
     "output_type": "execute_result"
    }
   ],
   "source": [
    "img_shape"
   ]
  },
  {
   "cell_type": "code",
   "execution_count": 63,
   "id": "dac7315b-2b23-403d-9ea1-f79c14abcac5",
   "metadata": {},
   "outputs": [
    {
     "data": {
      "text/plain": [
       "array([[ 13.54638589,  -9.58834212,  34.12763581],\n",
       "       [ 58.14983149,  -7.03882306,  26.09974994],\n",
       "       [ 18.62660867, -18.41509008,  34.01957583]])"
      ]
     },
     "execution_count": 63,
     "metadata": {},
     "output_type": "execute_result"
    }
   ],
   "source": [
    "# Now get coordinates in CT space\n",
    "ct_coord_arr = transform_points_ct_space(coord_path, ct_t1_trans)\n",
    "ct_coord_arr[0:3,:]"
   ]
  },
  {
   "cell_type": "code",
   "execution_count": 64,
   "id": "769dbb0c-0bd5-435b-b57f-4b414c3478b6",
   "metadata": {},
   "outputs": [
    {
     "data": {
      "text/plain": [
       "array([[279, 321, 111],\n",
       "       [168, 328,  91],\n",
       "       [266, 299, 111]])"
      ]
     },
     "execution_count": 64,
     "metadata": {},
     "output_type": "execute_result"
    }
   ],
   "source": [
    "# Transform to voxels\n",
    "transformed_coords = transform_coords_vox_space(ct_coord_arr, img_aff)\n",
    "transformed_coords[0:3,:]"
   ]
  },
  {
   "cell_type": "code",
   "execution_count": 61,
   "id": "d1749ac6-ae1a-47dd-a52e-7ab1e730f8ed",
   "metadata": {},
   "outputs": [],
   "source": [
    "# Create mask\n",
    "final_mask = np.zeros(img_shape).astype(bool)\n",
    "    \n",
    "for i in range(0,len(transformed_coords),2):\n",
    "    pointa = transformed_coords[i, :]\n",
    "    pointb = transformed_coords[i+1, :]\n",
    "\n",
    "\n",
    "    test_mask = create_line_mask(pointa, pointb, img_shape)\n",
    "\n",
    "    footprint = ball(4)\n",
    "    dilated = dilation(test_mask, footprint)\n",
    "    result = gaussian_filter(dilated.astype(float), sigma=0.6)\n",
    "    final_mask += result>0\n",
    "\n",
    "clipped_img = nib.Nifti1Image(final_mask, img_aff, img.header)\n",
    "nib.save(clipped_img, final_path)"
   ]
  },
  {
   "cell_type": "code",
   "execution_count": 71,
   "id": "1236c285-8da0-414d-aede-4145eb778b0e",
   "metadata": {},
   "outputs": [
    {
     "data": {
      "text/plain": [
       "(array([[  -0.39936084,    0.        ,    0.        ,  125.04445648],\n",
       "        [   0.        ,    0.39936084,    0.        , -137.95605469],\n",
       "        [   0.        ,    0.        ,    0.39911309,  -10.36294365],\n",
       "        [   0.        ,    0.        ,    0.        ,    1.        ]]),\n",
       " (626, 626, 451))"
      ]
     },
     "execution_count": 71,
     "metadata": {},
     "output_type": "execute_result"
    }
   ],
   "source": [
    "img, img_data, img_aff, img_shape = read_nifti('./data/sub-P020_res-0p4mm_desc-contacts_mask.nii.gz')\n",
    "img_aff, img_shape"
   ]
  },
  {
   "cell_type": "code",
   "execution_count": 74,
   "id": "b533ab0e-fec3-4404-9db1-d3bdcf42e88b",
   "metadata": {},
   "outputs": [
    {
     "data": {
      "text/plain": [
       "(array([[-3.99116344e-01, -1.40737596e-02, -3.17369709e-03,\n",
       "          1.23237984e+02],\n",
       "        [ 1.36259463e-02, -3.96592552e-01,  4.50026941e-02,\n",
       "          1.18835777e+02],\n",
       "        [-4.74382046e-03,  4.49255352e-02,  3.96279473e-01,\n",
       "         -2.73388290e+01],\n",
       "        [ 0.00000000e+00,  0.00000000e+00,  0.00000000e+00,\n",
       "          1.00000000e+00]]),\n",
       " (601, 601, 351))"
      ]
     },
     "execution_count": 74,
     "metadata": {},
     "output_type": "execute_result"
    }
   ],
   "source": [
    "img, img_data, img_aff, img_shape = read_nifti('./data/sub-P020_res-0p4mm_desc-z_norm_pred_ct.nii.gz')\n",
    "img_aff, img_shape"
   ]
  },
  {
   "cell_type": "markdown",
   "id": "147d5f26-28a3-4f40-ad17-9953c37fb169",
   "metadata": {
    "tags": []
   },
   "source": [
    "## Post-process"
   ]
  },
  {
   "cell_type": "markdown",
   "id": "db6253c8-f738-4878-a877-076b652f7e36",
   "metadata": {
    "tags": []
   },
   "source": [
    "### Functions"
   ]
  },
  {
   "cell_type": "code",
   "execution_count": 76,
   "id": "d52105bb-36c0-4168-8ea4-3565626b0de5",
   "metadata": {},
   "outputs": [],
   "source": [
    "import numpy as np\n",
    "from scipy.spatial import distance\n",
    "from sklearn.linear_model import LinearRegression\n",
    "\n",
    "\n",
    "def trace_line(entry_point, target_point):\n",
    "    return (entry_point - target_point)/np.linalg.norm(target_point - entry_point)\n",
    "\n",
    "def find_next_contact(current_point,\n",
    "                      direction,\n",
    "                      contacts,\n",
    "                      max_distance_target,\n",
    "                      min_distance_prior,\n",
    "                      avg_distance,\n",
    "                      entry_point,\n",
    "                      distance_from_entry=2):\n",
    "    next_contact = None\n",
    "    next_contact_id = None\n",
    "    min_distance = float('inf')\n",
    "    # print(current_point, avg_distance, direction)\n",
    "    theory_point = current_point + avg_distance*direction\n",
    "    # Projection of entry on direction vector\n",
    "    entry_proj = np.dot(entry_point, direction) / np.linalg.norm(direction)\n",
    "    \n",
    "    for ind, contact_array in enumerate(contacts):\n",
    "        contact = contact_array[0:3]\n",
    "#         vector_to_contact = contact - current_point\n",
    "#         angle = calculate_angle(vector_to_contact, direction)\n",
    "\n",
    "#         # If the angle is lower than 30 degrees (vectors heading the same direction)\n",
    "#         if dot_product > 0:\n",
    "#             allowed_distance = radius + avg_distance\n",
    "#         else:\n",
    "#             allowed_distance = radius\n",
    "\n",
    "        distance_target = np.linalg.norm(theory_point - contact)\n",
    "        distance_prior = np.linalg.norm(current_point - contact)\n",
    "        distance_entry = np.linalg.norm(entry_point - contact)\n",
    "        contact_proj = np.dot(contact, direction) / np.linalg.norm(direction)\n",
    "        # print(contacts[ind,-1], distance_target, distance_prior, distance_entry)\n",
    "        distance_metric = np.sqrt(distance_target**2+distance_prior**2) # balance between distance to target and prior\n",
    "        # Check that it's the closest point to the target, \n",
    "        # that it's below a specific distance from the target\n",
    "        # and above a certain distance from the current point,\n",
    "        # that it is not too close to the entry\n",
    "        # and that is not beyond the entry point\n",
    "        if (distance_metric < min_distance and\n",
    "            distance_target< max_distance_target*avg_distance and\n",
    "            distance_prior >= min_distance_prior*avg_distance and\n",
    "            (distance_entry >= distance_from_entry and contact_proj < entry_proj)):\n",
    "            min_distance = distance_metric\n",
    "            next_contact = contact\n",
    "            next_contact_id = ind\n",
    "    if next_contact_id is not None:\n",
    "        print(contacts[next_contact_id,-1], '\\n')\n",
    "        contacts = np.delete(contacts, next_contact_id, axis=0) \n",
    "    return next_contact, contacts\n",
    "\n",
    "def adjust_direction_using_all_contacts(contacts, original_direction):\n",
    "    contacts = np.array(contacts)[-3:,:] # only use last 3 coords\n",
    "    X = contacts[:, 0].reshape(-1, 1)\n",
    "    y1 = contacts[:, 1]\n",
    "    y2 = contacts[:, 2]\n",
    "\n",
    "    reg1 = LinearRegression().fit(X, y1)\n",
    "    reg2 = LinearRegression().fit(X, y2)\n",
    "\n",
    "    direction_vector = np.array([1, reg1.coef_[0], reg2.coef_[0]])\n",
    "    direction_vector = direction_vector / np.linalg.norm(direction_vector)\n",
    "\n",
    "    # Ensure the direction vector points toward the initial direction\n",
    "    if np.dot(direction_vector, original_direction) < 0:\n",
    "        direction_vector = -direction_vector\n",
    "        \n",
    "    return direction_vector\n",
    "\n",
    "def run_segmentation_qc(entry_point, target_point, contacts, max_distance_target, min_distance_prior):\n",
    "    original_direction = trace_line(entry_point, target_point)\n",
    "    direction = original_direction\n",
    "    current_point = target_point\n",
    "    avg_distance = 1 # mm\n",
    "    \n",
    "    # Initialize with the closest contact to the entry\n",
    "    current_point, contacts = find_next_contact(current_point, direction, contacts, 2, 0, avg_distance, entry_point)\n",
    "    found_contacts = [current_point]\n",
    "    distances_between_contacts = []\n",
    "    next_contact = current_point\n",
    "    # Find next contact\n",
    "    avg_distance = 3\n",
    "    next_contact, contacts = find_next_contact(current_point, direction, contacts, max_distance_target, min_distance_prior, avg_distance, entry_point)\n",
    "    # Calculate\n",
    "    while next_contact is not None:   \n",
    "        found_contacts.append(next_contact)\n",
    "        distances_between_contacts.append(np.linalg.norm(next_contact - current_point))\n",
    "        if len(found_contacts) >= 3:\n",
    "            print('Cambio direccion \\n')\n",
    "            direction = adjust_direction_using_all_contacts(found_contacts, original_direction)\n",
    "            print(direction)\n",
    "        current_point = next_contact\n",
    "\n",
    "        avg_distance = np.mean(distances_between_contacts)\n",
    "        print(f\"Adjusted Mean Distance: {avg_distance}\")\n",
    "        \n",
    "        # Find next contact\n",
    "        if len(contacts) > 0:\n",
    "            next_contact, contacts = find_next_contact(current_point, direction, contacts, max_distance_target, min_distance_prior, avg_distance, entry_point)\n",
    "        else:\n",
    "            next_contact = None\n",
    "    return found_contacts, avg_distance"
   ]
  },
  {
   "cell_type": "markdown",
   "id": "b3af5379-f790-4f13-901c-16a90afd7a72",
   "metadata": {},
   "source": [
    "### Usage"
   ]
  },
  {
   "cell_type": "code",
   "execution_count": 129,
   "id": "e3110ad6-220a-439b-892e-5202f6294266",
   "metadata": {},
   "outputs": [
    {
     "data": {
      "text/plain": [
       "array([[-9.9107, 42.8761, 24.1209, 'LAm'],\n",
       "       [-52.4179, 45.4588, 23.6232, 'LAm']], dtype=object)"
      ]
     },
     "execution_count": 129,
     "metadata": {},
     "output_type": "execute_result"
    }
   ],
   "source": [
    "entry_target_path = './data/sub-P087_actual.fcsv'\n",
    "entry_target = extract_coords(entry_target_path)\n",
    "ind =4-4\n",
    "entry_target_interest = entry_target[ind:ind+2,:]\n",
    "# RAIn: 18-4\n",
    "# LAIn: 28-4\n",
    "# RPIn: 20-4\n",
    "# RPHc: 8-4\n",
    "entry_target_interest "
   ]
  },
  {
   "cell_type": "code",
   "execution_count": 128,
   "id": "09d955e4-4686-41d9-aed0-211e64ad5dbd",
   "metadata": {},
   "outputs": [
    {
     "data": {
      "text/plain": [
       "array([[-11.744, 43.34, 23.99, 'LAm1'],\n",
       "       [-15.808, 43.595, 23.798, 'LAm2'],\n",
       "       [-18.969, 43.687, 24.266, 'LAm3'],\n",
       "       [-23.845, 43.572, 24.123, 'LAm4'],\n",
       "       [-27.096, 44.198, 23.881, 'LAm5'],\n",
       "       [-31.069, 43.919, 24.399, 'LAm6'],\n",
       "       [-35.528, 44.186, 24.265, 'LAm7'],\n",
       "       [-38.801, 44.418, 23.956, 'LAm8'],\n",
       "       [-42.864, 44.674, 23.764, 'LAm9'],\n",
       "       [-46.927, 44.929, 23.571, 'LAm10'],\n",
       "       [-54.153, 45.277, 23.847, 'LAm11']], dtype=object)"
      ]
     },
     "execution_count": 128,
     "metadata": {},
     "output_type": "execute_result"
    }
   ],
   "source": [
    "coords = './data/sub-P087_space-T1w_desc-unet_pnms.fcsv'\n",
    "coords = extract_coords(coords)\n",
    "ind = 25-4\n",
    "coords_interest = coords[ind:ind+11,:]\n",
    "# RAIn: 69\n",
    "# LAIn: 0\n",
    "# RPIn: 140-4\n",
    "# RPHc: 123-4\n",
    "coords_interest"
   ]
  },
  {
   "cell_type": "markdown",
   "id": "a3cb9475-c994-4de2-a611-44ebcb121529",
   "metadata": {},
   "source": [
    "### First apply masking\n"
   ]
  },
  {
   "cell_type": "code",
   "execution_count": 9,
   "id": "7508aeff-c17c-4cdb-9b7d-17c9b56c79b8",
   "metadata": {},
   "outputs": [],
   "source": [
    "import mne"
   ]
  },
  {
   "cell_type": "code",
   "execution_count": 118,
   "id": "5f84591c-a84e-4da9-a9d5-48d6b0ec3f44",
   "metadata": {},
   "outputs": [
    {
     "data": {
      "text/plain": [
       "((4, 4), (512, 512, 256))"
      ]
     },
     "execution_count": 118,
     "metadata": {},
     "output_type": "execute_result"
    }
   ],
   "source": [
    "# ct = nib.load('./data/sub-D128_space-T1w_desc-rigid_ses-post_ct.nii.gz')\n",
    "# ct = nib.load('./data/sub-P020_desc-rigid_space-T1w_ct.nii.gz')\n",
    "ct = nib.load('./data/sub-P087_space-T1w_desc-rigid_ses-post_ct.nii.gz')\n",
    "inv_affine = np.linalg.inv(ct.affine)\n",
    "data = np.asarray(ct.dataobj)\n",
    "inv_affine.shape, data.shape"
   ]
  },
  {
   "cell_type": "code",
   "execution_count": 130,
   "id": "42730054-8f1a-4b99-974b-4041e5e10133",
   "metadata": {},
   "outputs": [
    {
     "data": {
      "text/plain": [
       "array([[279, 257,  67],\n",
       "       [361, 257,  56]])"
      ]
     },
     "execution_count": 130,
     "metadata": {},
     "output_type": "execute_result"
    }
   ],
   "source": [
    "# Transform to voxels\n",
    "transformed_coords = np.round(mne.transforms.apply_trans(inv_affine, entry_target_interest[:,:-1].astype(float))).astype(int)\n",
    "transformed_coords"
   ]
  },
  {
   "cell_type": "code",
   "execution_count": 131,
   "id": "49fe53e6-1cbb-4e54-a54d-88367dfb31f8",
   "metadata": {},
   "outputs": [],
   "source": [
    "# Create mask\n",
    "img_shape = data.shape\n",
    "final_mask = np.zeros(img_shape).astype(bool)\n",
    "    \n",
    "for i in range(0,len(transformed_coords),2):\n",
    "    pointa = transformed_coords[i, :]\n",
    "    pointb = transformed_coords[i+1, :]\n",
    "\n",
    "\n",
    "    test_mask = create_line_mask(pointa, pointb, img_shape)\n",
    "\n",
    "    footprint = ball(4)\n",
    "    dilated = dilation(test_mask, footprint)\n",
    "    result = gaussian_filter(dilated.astype(float), sigma=0.6)\n",
    "    final_mask += result>0"
   ]
  },
  {
   "cell_type": "code",
   "execution_count": 132,
   "id": "03b34363-b560-4924-a0cd-bed232bfba43",
   "metadata": {},
   "outputs": [
    {
     "data": {
      "text/plain": [
       "(array([False,  True]), (512, 512, 256))"
      ]
     },
     "execution_count": 132,
     "metadata": {},
     "output_type": "execute_result"
    }
   ],
   "source": [
    "# Mask based on CT intensity\n",
    "mask_intensity = (data>2500).astype(bool)\n",
    "\n",
    "# Merge the masks\n",
    "merged_mask = final_mask*mask_intensity\n",
    "\n",
    "# Dilate a bit\n",
    "footprint = ball(2)\n",
    "merged_mask = dilation(merged_mask, footprint)\n",
    "\n",
    "np.unique(merged_mask), merged_mask.shape"
   ]
  },
  {
   "cell_type": "code",
   "execution_count": 98,
   "id": "4493bf2c-156b-4481-bff5-bcea2ca09c17",
   "metadata": {},
   "outputs": [],
   "source": [
    "clipped_img = nib.Nifti1Image(merged_mask, ct.affine, ct.header)\n",
    "nib.save(clipped_img, 'test_mask_sub-P020.nii.gz')"
   ]
  },
  {
   "cell_type": "code",
   "execution_count": 133,
   "id": "dee447e4-f83e-4c25-b717-29ff4cf22e4b",
   "metadata": {},
   "outputs": [
    {
     "data": {
      "text/plain": [
       "array([[282, 257,  66],\n",
       "       [290, 257,  65],\n",
       "       [296, 257,  65]])"
      ]
     },
     "execution_count": 133,
     "metadata": {},
     "output_type": "execute_result"
    }
   ],
   "source": [
    "# Get contacts positions in voxel space\n",
    "transformed_coords = np.round(mne.transforms.apply_trans(inv_affine, coords_interest[:,:-1].astype(float))).astype(int)\n",
    "transformed_coords[:3,:]"
   ]
  },
  {
   "cell_type": "code",
   "execution_count": 134,
   "id": "33dd3d81-ff74-473c-bec0-1d9957c50924",
   "metadata": {},
   "outputs": [
    {
     "data": {
      "text/plain": [
       "((11, 4),\n",
       " array([ True,  True,  True,  True,  True,  True,  True,  True,  True,\n",
       "         True,  True]))"
      ]
     },
     "execution_count": 134,
     "metadata": {},
     "output_type": "execute_result"
    }
   ],
   "source": [
    "# Mask the contacts inside the mask\n",
    "filtered_coords = coords_interest[merged_mask[transformed_coords[:,0], transformed_coords[:,1], transformed_coords[:,2]]]\n",
    "filtered_coords.shape, merged_mask[transformed_coords[:,0], transformed_coords[:,1], transformed_coords[:,2]]"
   ]
  },
  {
   "cell_type": "markdown",
   "id": "fcb0d4e9-f3e8-48c1-ad9c-97dc12a48622",
   "metadata": {
    "tags": []
   },
   "source": [
    "### Now line algorithm"
   ]
  },
  {
   "cell_type": "code",
   "execution_count": 135,
   "id": "ab5320d2-2046-46c8-b6b7-1a9b71a7eff8",
   "metadata": {},
   "outputs": [
    {
     "data": {
      "text/plain": [
       "array([[-9.9107, 42.8761, 24.1209, 'LAm'],\n",
       "       [-52.4179, 45.4588, 23.6232, 'LAm']], dtype=object)"
      ]
     },
     "execution_count": 135,
     "metadata": {},
     "output_type": "execute_result"
    }
   ],
   "source": [
    "entry_target_interest"
   ]
  },
  {
   "cell_type": "code",
   "execution_count": 136,
   "id": "c636ad5a-c9d3-4c0b-b308-c3047cd771b2",
   "metadata": {},
   "outputs": [
    {
     "name": "stdout",
     "output_type": "stream",
     "text": [
      "LAm1 \n",
      "\n",
      "LAm2 \n",
      "\n",
      "Adjusted Mean Distance: 4.076516282317538\n",
      "LAm3 \n",
      "\n",
      "Cambio direccion \n",
      "\n",
      "[-0.99823278  0.04862784  0.03415636]\n",
      "Adjusted Mean Distance: 3.636648659774292\n",
      "LAm4 \n",
      "\n",
      "Cambio direccion \n",
      "\n",
      "[-0.9993945  -0.00462079  0.03448584]\n",
      "Adjusted Mean Distance: 4.050916377673691\n",
      "LAm5 \n",
      "\n",
      "Cambio direccion \n",
      "\n",
      "[-0.9973837   0.05590617 -0.04582848]\n",
      "Adjusted Mean Distance: 3.868075867644764\n",
      "LAm6 \n",
      "\n",
      "Cambio direccion \n",
      "\n",
      "[-0.99818531  0.04363586  0.041497  ]\n",
      "Adjusted Mean Distance: 3.8977263786810115\n",
      "LAm7 \n",
      "\n",
      "Cambio direccion \n",
      "\n",
      "[-9.99033104e-01 -1.78704158e-04  4.39639178e-02]\n",
      "Adjusted Mean Distance: 3.9929379962564155\n",
      "LAm8 \n",
      "\n",
      "Cambio direccion \n",
      "\n",
      "[-0.99640328  0.06403329 -0.05549996]\n",
      "Adjusted Mean Distance: 3.893336805540281\n",
      "LAm9 \n",
      "\n",
      "Cambio direccion \n",
      "\n",
      "[-0.99555114  0.06608677 -0.06715996]\n",
      "Adjusted Mean Distance: 3.916117460387997\n",
      "LAm10 \n",
      "\n",
      "Cambio direccion \n",
      "\n",
      "[-0.99691473  0.06269055 -0.04723261]\n",
      "Adjusted Mean Distance: 3.933834029942431\n",
      "Found Contacts: [array([-11.744, 43.34, 23.99], dtype=object), array([-15.808, 43.595, 23.798], dtype=object), array([-18.969, 43.687, 24.266], dtype=object), array([-23.845, 43.572, 24.123], dtype=object), array([-27.096, 44.198, 23.881], dtype=object), array([-31.069, 43.919, 24.399], dtype=object), array([-35.528, 44.186, 24.265], dtype=object), array([-38.801, 44.418, 23.956], dtype=object), array([-42.864, 44.674, 23.764], dtype=object), array([-46.927, 44.929, 23.571], dtype=object)]\n",
      "Average Distance: 3.933834029942431\n"
     ]
    }
   ],
   "source": [
    "# Example usage\n",
    "target_point = entry_target_interest[0,:-1]  # Replace with actual entry point coordinates\n",
    "entry_point = entry_target_interest[1,:-1]  # Replace with actual target point coordinates\n",
    "contacts = filtered_coords  # Replace with your file path\n",
    "max_distance_target = 0.75  # Percentange from average \n",
    "min_distance_prior = 0.5\n",
    "\n",
    "found_contacts, avg_distance = run_segmentation_qc(entry_point, target_point, contacts, max_distance_target, min_distance_prior)\n",
    "\n",
    "print(\"Found Contacts:\", found_contacts)\n",
    "print(\"Average Distance:\", avg_distance)\n"
   ]
  },
  {
   "cell_type": "code",
   "execution_count": 137,
   "id": "a6df1a76-4657-4dd9-a474-2986f69b5940",
   "metadata": {},
   "outputs": [
    {
     "data": {
      "text/plain": [
       "(10, 11)"
      ]
     },
     "execution_count": 137,
     "metadata": {},
     "output_type": "execute_result"
    }
   ],
   "source": [
    "len(found_contacts), len(filtered_coords)"
   ]
  },
  {
   "cell_type": "code",
   "execution_count": 69,
   "id": "02f6da75-e26c-4de1-b604-65556ac60524",
   "metadata": {},
   "outputs": [
    {
     "data": {
      "text/plain": [
       "[array([-15.172, 37.191, -6.681], dtype=object),\n",
       " array([-19.891, 38.252, -7.148], dtype=object),\n",
       " array([-24.733, 39.094, -6.858], dtype=object),\n",
       " array([-29.466, 39.388, -7.549], dtype=object),\n",
       " array([-35.097, 40.279, -7.375], dtype=object),\n",
       " array([-39.027, 41.29, -7.727], dtype=object),\n",
       " array([-44.279, 41.391, -7.719], dtype=object),\n",
       " array([-48.997, 42.451, -8.186], dtype=object),\n",
       " array([-54.628, 43.342, -8.012], dtype=object),\n",
       " array([-59.346, 44.402, -8.479], dtype=object),\n",
       " array([-66.152, 45.75, -8.365], dtype=object)]"
      ]
     },
     "execution_count": 69,
     "metadata": {},
     "output_type": "execute_result"
    }
   ],
   "source": [
    "found_contacts"
   ]
  }
 ],
 "metadata": {
  "kernelspec": {
   "display_name": "Python 3 (ipykernel)",
   "language": "python",
   "name": "python3"
  },
  "language_info": {
   "codemirror_mode": {
    "name": "ipython",
    "version": 3
   },
   "file_extension": ".py",
   "mimetype": "text/x-python",
   "name": "python",
   "nbconvert_exporter": "python",
   "pygments_lexer": "ipython3",
   "version": "3.8.10"
  }
 },
 "nbformat": 4,
 "nbformat_minor": 5
}
