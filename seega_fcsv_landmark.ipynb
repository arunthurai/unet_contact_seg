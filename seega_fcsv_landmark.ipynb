{
 "cells": [
  {
   "cell_type": "code",
   "execution_count": 1,
   "id": "1584afd6-0e9a-4243-b468-c9d3d87dba4d",
   "metadata": {
    "tags": []
   },
   "outputs": [],
   "source": [
    "import os\n",
    "import nibabel as nib\n",
    "import sys\n",
    "import pandas as pd \n",
    "import numpy as np\n",
    "import subprocess\n",
    "from glob import glob"
   ]
  },
  {
   "cell_type": "code",
   "execution_count": 9,
   "id": "5d29eb46-2fd0-4bed-8209-da61de55b9f9",
   "metadata": {
    "tags": []
   },
   "outputs": [
    {
     "name": "stderr",
     "output_type": "stream",
     "text": [
      "/tmp/ipykernel_9767/2637677612.py:4: SettingWithCopyWarning: \n",
      "A value is trying to be set on a copy of a slice from a DataFrame.\n",
      "Try using .loc[row_indexer,col_indexer] = value instead\n",
      "\n",
      "See the caveats in the documentation: https://pandas.pydata.org/pandas-docs/stable/user_guide/indexing.html#returning-a-view-versus-a-copy\n",
      "  new_df['value'] = 1\n"
     ]
    }
   ],
   "source": [
    "subject_test = 'sub-P002_SEEGA.fcsv'\n",
    "df = pd.read_csv(subject_test, skiprows = 2)\n",
    "new_df = df[['x','y','z']]\n",
    "new_df['value'] = 1\n",
    "np.savetxt(f'sub-P002_desc-rigid_space-T1w_ct_landmarks.txt', new_df)"
   ]
  },
  {
   "cell_type": "code",
   "execution_count": 10,
   "id": "42e162af-3aed-49da-8744-c9e840e4356d",
   "metadata": {
    "tags": []
   },
   "outputs": [
    {
     "data": {
      "text/html": [
       "<div>\n",
       "<style scoped>\n",
       "    .dataframe tbody tr th:only-of-type {\n",
       "        vertical-align: middle;\n",
       "    }\n",
       "\n",
       "    .dataframe tbody tr th {\n",
       "        vertical-align: top;\n",
       "    }\n",
       "\n",
       "    .dataframe thead th {\n",
       "        text-align: right;\n",
       "    }\n",
       "</style>\n",
       "<table border=\"1\" class=\"dataframe\">\n",
       "  <thead>\n",
       "    <tr style=\"text-align: right;\">\n",
       "      <th></th>\n",
       "      <th>x</th>\n",
       "      <th>y</th>\n",
       "      <th>z</th>\n",
       "      <th>value</th>\n",
       "    </tr>\n",
       "  </thead>\n",
       "  <tbody>\n",
       "    <tr>\n",
       "      <th>0</th>\n",
       "      <td>-12.421</td>\n",
       "      <td>53.946</td>\n",
       "      <td>51.860</td>\n",
       "      <td>1</td>\n",
       "    </tr>\n",
       "    <tr>\n",
       "      <th>1</th>\n",
       "      <td>-17.432</td>\n",
       "      <td>54.404</td>\n",
       "      <td>52.230</td>\n",
       "      <td>1</td>\n",
       "    </tr>\n",
       "    <tr>\n",
       "      <th>2</th>\n",
       "      <td>-22.689</td>\n",
       "      <td>54.310</td>\n",
       "      <td>52.309</td>\n",
       "      <td>1</td>\n",
       "    </tr>\n",
       "    <tr>\n",
       "      <th>3</th>\n",
       "      <td>-27.590</td>\n",
       "      <td>54.439</td>\n",
       "      <td>52.388</td>\n",
       "      <td>1</td>\n",
       "    </tr>\n",
       "    <tr>\n",
       "      <th>4</th>\n",
       "      <td>-32.342</td>\n",
       "      <td>54.658</td>\n",
       "      <td>52.259</td>\n",
       "      <td>1</td>\n",
       "    </tr>\n",
       "    <tr>\n",
       "      <th>...</th>\n",
       "      <td>...</td>\n",
       "      <td>...</td>\n",
       "      <td>...</td>\n",
       "      <td>...</td>\n",
       "    </tr>\n",
       "    <tr>\n",
       "      <th>95</th>\n",
       "      <td>8.260</td>\n",
       "      <td>33.640</td>\n",
       "      <td>76.443</td>\n",
       "      <td>1</td>\n",
       "    </tr>\n",
       "    <tr>\n",
       "      <th>96</th>\n",
       "      <td>9.671</td>\n",
       "      <td>35.056</td>\n",
       "      <td>78.680</td>\n",
       "      <td>1</td>\n",
       "    </tr>\n",
       "    <tr>\n",
       "      <th>97</th>\n",
       "      <td>10.980</td>\n",
       "      <td>36.472</td>\n",
       "      <td>80.530</td>\n",
       "      <td>1</td>\n",
       "    </tr>\n",
       "    <tr>\n",
       "      <th>98</th>\n",
       "      <td>12.546</td>\n",
       "      <td>37.887</td>\n",
       "      <td>82.767</td>\n",
       "      <td>1</td>\n",
       "    </tr>\n",
       "    <tr>\n",
       "      <th>99</th>\n",
       "      <td>13.640</td>\n",
       "      <td>38.986</td>\n",
       "      <td>84.828</td>\n",
       "      <td>1</td>\n",
       "    </tr>\n",
       "  </tbody>\n",
       "</table>\n",
       "<p>100 rows × 4 columns</p>\n",
       "</div>"
      ],
      "text/plain": [
       "         x       y       z  value\n",
       "0  -12.421  53.946  51.860      1\n",
       "1  -17.432  54.404  52.230      1\n",
       "2  -22.689  54.310  52.309      1\n",
       "3  -27.590  54.439  52.388      1\n",
       "4  -32.342  54.658  52.259      1\n",
       "..     ...     ...     ...    ...\n",
       "95   8.260  33.640  76.443      1\n",
       "96   9.671  35.056  78.680      1\n",
       "97  10.980  36.472  80.530      1\n",
       "98  12.546  37.887  82.767      1\n",
       "99  13.640  38.986  84.828      1\n",
       "\n",
       "[100 rows x 4 columns]"
      ]
     },
     "execution_count": 10,
     "metadata": {},
     "output_type": "execute_result"
    }
   ],
   "source": [
    "new_df"
   ]
  },
  {
   "cell_type": "code",
   "execution_count": 5,
   "id": "3ee5c9e8-00c8-4e1a-9b0f-5e1e67f4de67",
   "metadata": {},
   "outputs": [
    {
     "data": {
      "text/plain": [
       "'/project/6050199/athurai3/contact_localization'"
      ]
     },
     "execution_count": 5,
     "metadata": {},
     "output_type": "execute_result"
    }
   ],
   "source": [
    "pwd"
   ]
  },
  {
   "cell_type": "code",
   "execution_count": null,
   "id": "3c528a6e-564a-478a-ad0a-b0ede808c88a",
   "metadata": {},
   "outputs": [],
   "source": []
  }
 ],
 "metadata": {
  "kernelspec": {
   "display_name": "Python 3 (ipykernel)",
   "language": "python",
   "name": "python3"
  },
  "language_info": {
   "codemirror_mode": {
    "name": "ipython",
    "version": 3
   },
   "file_extension": ".py",
   "mimetype": "text/x-python",
   "name": "python",
   "nbconvert_exporter": "python",
   "pygments_lexer": "ipython3",
   "version": "3.10.2"
  }
 },
 "nbformat": 4,
 "nbformat_minor": 5
}
